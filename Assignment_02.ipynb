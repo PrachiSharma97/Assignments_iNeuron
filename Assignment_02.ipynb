{
 "cells": [
  {
   "cell_type": "code",
   "execution_count": 20,
   "metadata": {},
   "outputs": [
    {
     "name": "stdout",
     "output_type": "stream",
     "text": [
      "*  \n",
      "* *  \n",
      "* * *  \n",
      "* * * *  \n",
      "* * * * *  \n",
      "* * * *  \n",
      "* * *  \n",
      "* *  \n",
      "*  \n",
      " \n"
     ]
    }
   ],
   "source": [
    "#1 Create the below pattern using nested for loop in Python.\n",
    "for i in range(0, 5):   #For Upper Triangle\n",
    "    for j in range(0,i+1):\n",
    "        print(\"* \", end = \"\")\n",
    "    print(\" \")\n",
    "for i in range(5,0,-1): #For Lower Triangle\n",
    "    for j in range(0,i-1):\n",
    "        print(\"* \", end = \"\")\n",
    "    print(\" \")"
   ]
  },
  {
   "cell_type": "code",
   "execution_count": 3,
   "metadata": {},
   "outputs": [
    {
     "name": "stdout",
     "output_type": "stream",
     "text": [
      "Enter the string: Ineuron\n",
      "noruenI\n"
     ]
    }
   ],
   "source": [
    "#2 Write a Python program to reverse a word after accepting the input from the user.\n",
    "str_input = input(\"Enter the string: \") # Input the String\n",
    "rev_str = str_input[: : -1] \n",
    "print(rev_str) #Printing the reversed string\n",
    "    "
   ]
  },
  {
   "cell_type": "code",
   "execution_count": null,
   "metadata": {},
   "outputs": [],
   "source": []
  },
  {
   "cell_type": "code",
   "execution_count": null,
   "metadata": {},
   "outputs": [],
   "source": []
  }
 ],
 "metadata": {
  "kernelspec": {
   "display_name": "Python 3",
   "language": "python",
   "name": "python3"
  },
  "language_info": {
   "codemirror_mode": {
    "name": "ipython",
    "version": 3
   },
   "file_extension": ".py",
   "mimetype": "text/x-python",
   "name": "python",
   "nbconvert_exporter": "python",
   "pygments_lexer": "ipython3",
   "version": "3.7.3"
  }
 },
 "nbformat": 4,
 "nbformat_minor": 2
}
